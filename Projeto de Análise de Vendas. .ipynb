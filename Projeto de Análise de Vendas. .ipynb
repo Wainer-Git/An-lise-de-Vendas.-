{
 "cells": [
  {
   "cell_type": "markdown",
   "metadata": {},
   "source": [
    "# Projeto de Análise de Vendas. \n",
    "No presente projeto iremos analisar o desempenho de vendas de tres mercados localizados em tres cidades diferentes.<br>\n",
    "O DataFrame possui as seguintes colunas:<br>\n",
    "**Invoice ID**: numero de identificação da venda (gerada computacionalmente).<br>\n",
    "**Branch**: ramo do supermercado (identificado por A,B ou C);<br>\n",
    "**City**: cidade do supermercado;<br>\n",
    "**Customer type**: tipo de cliente;<br>\n",
    "**Gender**: sexo do clinte;<br>\n",
    "**Product line**: categoria do produto;<br>\n",
    "**Unit price**: preço unitário;<br>\n",
    "**Quantity**: quantidade;<br>\n",
    "**Tax 5%**: taxa de 5%;<br>\n",
    "**Total**: total gasto; <br>\n",
    "**Date**: data da compra; <br>\n",
    "**Time**: horário da compra; <br>\n",
    "**Payment**: forma de pagamento; <br>\n",
    "**cogs**: custos de mercadorias vendidas. <br> \n",
    "**gross margin percentage**: percentual da margem bruta; <br>\n",
    "**gross income**: rendimento bruto; <br>\n",
    "**Rating**: nota pela experiencia da compra; <br> "
   ]
  },
  {
   "cell_type": "markdown",
   "metadata": {},
   "source": [
    "Agora vamos importar as bibliotecas necessárias para o tratamento dos dados e a base de dados de vendas."
   ]
  },
  {
   "cell_type": "code",
   "execution_count": 1,
   "metadata": {},
   "outputs": [],
   "source": [
    "import pandas as pd\n",
    "import matplotlib.pyplot as plt \n",
    "import seaborn as sns \n",
    "%matplotlib inline"
   ]
  },
  {
   "cell_type": "code",
   "execution_count": 2,
   "metadata": {},
   "outputs": [],
   "source": [
    "df = pd.read_csv('supermarket_sales - Sheet1.csv')"
   ]
  },
  {
   "cell_type": "code",
   "execution_count": 3,
   "metadata": {},
   "outputs": [
    {
     "data": {
      "text/html": [
       "<div>\n",
       "<style scoped>\n",
       "    .dataframe tbody tr th:only-of-type {\n",
       "        vertical-align: middle;\n",
       "    }\n",
       "\n",
       "    .dataframe tbody tr th {\n",
       "        vertical-align: top;\n",
       "    }\n",
       "\n",
       "    .dataframe thead th {\n",
       "        text-align: right;\n",
       "    }\n",
       "</style>\n",
       "<table border=\"1\" class=\"dataframe\">\n",
       "  <thead>\n",
       "    <tr style=\"text-align: right;\">\n",
       "      <th></th>\n",
       "      <th>Invoice ID</th>\n",
       "      <th>Branch</th>\n",
       "      <th>City</th>\n",
       "      <th>Customer type</th>\n",
       "      <th>Gender</th>\n",
       "      <th>Product line</th>\n",
       "      <th>Unit price</th>\n",
       "      <th>Quantity</th>\n",
       "      <th>Tax 5%</th>\n",
       "      <th>Total</th>\n",
       "      <th>Date</th>\n",
       "      <th>Time</th>\n",
       "      <th>Payment</th>\n",
       "      <th>cogs</th>\n",
       "      <th>gross margin percentage</th>\n",
       "      <th>gross income</th>\n",
       "      <th>Rating</th>\n",
       "    </tr>\n",
       "  </thead>\n",
       "  <tbody>\n",
       "    <tr>\n",
       "      <th>0</th>\n",
       "      <td>750-67-8428</td>\n",
       "      <td>A</td>\n",
       "      <td>Yangon</td>\n",
       "      <td>Member</td>\n",
       "      <td>Female</td>\n",
       "      <td>Health and beauty</td>\n",
       "      <td>74.69</td>\n",
       "      <td>7</td>\n",
       "      <td>26.1415</td>\n",
       "      <td>548.9715</td>\n",
       "      <td>1/5/2019</td>\n",
       "      <td>13:08</td>\n",
       "      <td>Ewallet</td>\n",
       "      <td>522.83</td>\n",
       "      <td>4.761905</td>\n",
       "      <td>26.1415</td>\n",
       "      <td>9.1</td>\n",
       "    </tr>\n",
       "    <tr>\n",
       "      <th>1</th>\n",
       "      <td>226-31-3081</td>\n",
       "      <td>C</td>\n",
       "      <td>Naypyitaw</td>\n",
       "      <td>Normal</td>\n",
       "      <td>Female</td>\n",
       "      <td>Electronic accessories</td>\n",
       "      <td>15.28</td>\n",
       "      <td>5</td>\n",
       "      <td>3.8200</td>\n",
       "      <td>80.2200</td>\n",
       "      <td>3/8/2019</td>\n",
       "      <td>10:29</td>\n",
       "      <td>Cash</td>\n",
       "      <td>76.40</td>\n",
       "      <td>4.761905</td>\n",
       "      <td>3.8200</td>\n",
       "      <td>9.6</td>\n",
       "    </tr>\n",
       "    <tr>\n",
       "      <th>2</th>\n",
       "      <td>631-41-3108</td>\n",
       "      <td>A</td>\n",
       "      <td>Yangon</td>\n",
       "      <td>Normal</td>\n",
       "      <td>Male</td>\n",
       "      <td>Home and lifestyle</td>\n",
       "      <td>46.33</td>\n",
       "      <td>7</td>\n",
       "      <td>16.2155</td>\n",
       "      <td>340.5255</td>\n",
       "      <td>3/3/2019</td>\n",
       "      <td>13:23</td>\n",
       "      <td>Credit card</td>\n",
       "      <td>324.31</td>\n",
       "      <td>4.761905</td>\n",
       "      <td>16.2155</td>\n",
       "      <td>7.4</td>\n",
       "    </tr>\n",
       "    <tr>\n",
       "      <th>3</th>\n",
       "      <td>123-19-1176</td>\n",
       "      <td>A</td>\n",
       "      <td>Yangon</td>\n",
       "      <td>Member</td>\n",
       "      <td>Male</td>\n",
       "      <td>Health and beauty</td>\n",
       "      <td>58.22</td>\n",
       "      <td>8</td>\n",
       "      <td>23.2880</td>\n",
       "      <td>489.0480</td>\n",
       "      <td>1/27/2019</td>\n",
       "      <td>20:33</td>\n",
       "      <td>Ewallet</td>\n",
       "      <td>465.76</td>\n",
       "      <td>4.761905</td>\n",
       "      <td>23.2880</td>\n",
       "      <td>8.4</td>\n",
       "    </tr>\n",
       "    <tr>\n",
       "      <th>4</th>\n",
       "      <td>373-73-7910</td>\n",
       "      <td>A</td>\n",
       "      <td>Yangon</td>\n",
       "      <td>Normal</td>\n",
       "      <td>Male</td>\n",
       "      <td>Sports and travel</td>\n",
       "      <td>86.31</td>\n",
       "      <td>7</td>\n",
       "      <td>30.2085</td>\n",
       "      <td>634.3785</td>\n",
       "      <td>2/8/2019</td>\n",
       "      <td>10:37</td>\n",
       "      <td>Ewallet</td>\n",
       "      <td>604.17</td>\n",
       "      <td>4.761905</td>\n",
       "      <td>30.2085</td>\n",
       "      <td>5.3</td>\n",
       "    </tr>\n",
       "  </tbody>\n",
       "</table>\n",
       "</div>"
      ],
      "text/plain": [
       "    Invoice ID Branch       City Customer type  Gender  \\\n",
       "0  750-67-8428      A     Yangon        Member  Female   \n",
       "1  226-31-3081      C  Naypyitaw        Normal  Female   \n",
       "2  631-41-3108      A     Yangon        Normal    Male   \n",
       "3  123-19-1176      A     Yangon        Member    Male   \n",
       "4  373-73-7910      A     Yangon        Normal    Male   \n",
       "\n",
       "             Product line  Unit price  Quantity   Tax 5%     Total       Date  \\\n",
       "0       Health and beauty       74.69         7  26.1415  548.9715   1/5/2019   \n",
       "1  Electronic accessories       15.28         5   3.8200   80.2200   3/8/2019   \n",
       "2      Home and lifestyle       46.33         7  16.2155  340.5255   3/3/2019   \n",
       "3       Health and beauty       58.22         8  23.2880  489.0480  1/27/2019   \n",
       "4       Sports and travel       86.31         7  30.2085  634.3785   2/8/2019   \n",
       "\n",
       "    Time      Payment    cogs  gross margin percentage  gross income  Rating  \n",
       "0  13:08      Ewallet  522.83                 4.761905       26.1415     9.1  \n",
       "1  10:29         Cash   76.40                 4.761905        3.8200     9.6  \n",
       "2  13:23  Credit card  324.31                 4.761905       16.2155     7.4  \n",
       "3  20:33      Ewallet  465.76                 4.761905       23.2880     8.4  \n",
       "4  10:37      Ewallet  604.17                 4.761905       30.2085     5.3  "
      ]
     },
     "execution_count": 3,
     "metadata": {},
     "output_type": "execute_result"
    }
   ],
   "source": [
    "df.head()"
   ]
  },
  {
   "cell_type": "markdown",
   "metadata": {},
   "source": [
    "Vamos analisar algumas informações a respeito do tamanho desta base de dados utilizando o método **.info()** do pandas. "
   ]
  },
  {
   "cell_type": "code",
   "execution_count": 4,
   "metadata": {},
   "outputs": [
    {
     "name": "stdout",
     "output_type": "stream",
     "text": [
      "<class 'pandas.core.frame.DataFrame'>\n",
      "RangeIndex: 1000 entries, 0 to 999\n",
      "Data columns (total 17 columns):\n",
      " #   Column                   Non-Null Count  Dtype  \n",
      "---  ------                   --------------  -----  \n",
      " 0   Invoice ID               1000 non-null   object \n",
      " 1   Branch                   1000 non-null   object \n",
      " 2   City                     1000 non-null   object \n",
      " 3   Customer type            1000 non-null   object \n",
      " 4   Gender                   1000 non-null   object \n",
      " 5   Product line             1000 non-null   object \n",
      " 6   Unit price               1000 non-null   float64\n",
      " 7   Quantity                 1000 non-null   int64  \n",
      " 8   Tax 5%                   1000 non-null   float64\n",
      " 9   Total                    1000 non-null   float64\n",
      " 10  Date                     1000 non-null   object \n",
      " 11  Time                     1000 non-null   object \n",
      " 12  Payment                  1000 non-null   object \n",
      " 13  cogs                     1000 non-null   float64\n",
      " 14  gross margin percentage  1000 non-null   float64\n",
      " 15  gross income             1000 non-null   float64\n",
      " 16  Rating                   1000 non-null   float64\n",
      "dtypes: float64(7), int64(1), object(9)\n",
      "memory usage: 132.9+ KB\n"
     ]
    }
   ],
   "source": [
    "df.info()"
   ]
  },
  {
   "cell_type": "markdown",
   "metadata": {},
   "source": [
    "Vamos começar a análise exploratória dos dados verificando como está a distruibuição dos supermercados por cidade. "
   ]
  },
  {
   "cell_type": "code",
   "execution_count": 5,
   "metadata": {},
   "outputs": [
    {
     "data": {
      "text/plain": [
       "Yangon       340\n",
       "Mandalay     332\n",
       "Naypyitaw    328\n",
       "Name: City, dtype: int64"
      ]
     },
     "execution_count": 5,
     "metadata": {},
     "output_type": "execute_result"
    }
   ],
   "source": [
    "df['City'].value_counts()"
   ]
  },
  {
   "cell_type": "code",
   "execution_count": 9,
   "metadata": {},
   "outputs": [
    {
     "data": {
      "text/plain": [
       "<matplotlib.axes._subplots.AxesSubplot at 0x7008ad5948>"
      ]
     },
     "execution_count": 9,
     "metadata": {},
     "output_type": "execute_result"
    },
    {
     "data": {
      "image/png": "[encoded data removed]",
      "text/plain": [
       "<Figure size 648x360 with 1 Axes>"
      ]
     },
     "metadata": {},
     "output_type": "display_data"
    }
   ],
   "source": [
    "plt.figure(figsize=(9,5))\n",
    "sns.set_style('darkgrid')\n",
    "sns.countplot(x='City', data=df)"
   ]
  },
  {
   "cell_type": "markdown",
   "metadata": {},
   "source": [
    "Agora vamos analisar o **\"Customer type\"**, para como está a divisão por estas tres cidades. "
   ]
  },
  {
   "cell_type": "code",
   "execution_count": 14,
   "metadata": {},
   "outputs": [
    {
     "data": {
      "text/plain": [
       "Member    501\n",
       "Normal    499\n",
       "Name: Customer type, dtype: int64"
      ]
     },
     "execution_count": 14,
     "metadata": {},
     "output_type": "execute_result"
    }
   ],
   "source": [
    "df['Customer type'].value_counts()"
   ]
  },
  {
   "cell_type": "code",
   "execution_count": 16,
   "metadata": {},
   "outputs": [
    {
     "data": {
      "text/plain": [
       "<matplotlib.axes._subplots.AxesSubplot at 0x7008d9e208>"
      ]
     },
     "execution_count": 16,
     "metadata": {},
     "output_type": "execute_result"
    },
    {
     "data": {
      "image/png": "[encoded data removed]",
      "text/plain": [
       "<Figure size 648x432 with 1 Axes>"
      ]
     },
     "metadata": {},
     "output_type": "display_data"
    }
   ],
   "source": [
    "plt.figure(figsize=(9,6))\n",
    "sns.countplot(x='City',hue='Customer type', data=df)"
   ]
  },
  {
   "cell_type": "code",
   "execution_count": 17,
   "metadata": {},
   "outputs": [
    {
     "data": {
      "text/plain": [
       "Yangon       340\n",
       "Mandalay     332\n",
       "Naypyitaw    328\n",
       "Name: City, dtype: int64"
      ]
     },
     "execution_count": 17,
     "metadata": {},
     "output_type": "execute_result"
    }
   ],
   "source": [
    "df['City'].value_counts()"
   ]
  },
  {
   "cell_type": "markdown",
   "metadata": {},
   "source": [
    "Nota se que a cidade que com o menor número de clientes, Naypyitaw, é a que possui o maior número de clientes membros. "
   ]
  },
  {
   "cell_type": "markdown",
   "metadata": {},
   "source": [
    "Ainda analisando o \"Customer type\", vamos pegar as medias de valores dos mesmos, utilizando o **groupby** do pandas. "
   ]
  },
  {
   "cell_type": "code",
   "execution_count": 19,
   "metadata": {},
   "outputs": [
    {
     "data": {
      "text/html": [
       "<div>\n",
       "<style scoped>\n",
       "    .dataframe tbody tr th:only-of-type {\n",
       "        vertical-align: middle;\n",
       "    }\n",
       "\n",
       "    .dataframe tbody tr th {\n",
       "        vertical-align: top;\n",
       "    }\n",
       "\n",
       "    .dataframe thead th {\n",
       "        text-align: right;\n",
       "    }\n",
       "</style>\n",
       "<table border=\"1\" class=\"dataframe\">\n",
       "  <thead>\n",
       "    <tr style=\"text-align: right;\">\n",
       "      <th></th>\n",
       "      <th>Unit price</th>\n",
       "      <th>Quantity</th>\n",
       "      <th>Tax 5%</th>\n",
       "      <th>Total</th>\n",
       "      <th>cogs</th>\n",
       "      <th>gross margin percentage</th>\n",
       "      <th>gross income</th>\n",
       "      <th>Rating</th>\n",
       "    </tr>\n",
       "    <tr>\n",
       "      <th>Customer type</th>\n",
       "      <th></th>\n",
       "      <th></th>\n",
       "      <th></th>\n",
       "      <th></th>\n",
       "      <th></th>\n",
       "      <th></th>\n",
       "      <th></th>\n",
       "      <th></th>\n",
       "    </tr>\n",
       "  </thead>\n",
       "  <tbody>\n",
       "    <tr>\n",
       "      <th>Member</th>\n",
       "      <td>56.206986</td>\n",
       "      <td>5.558882</td>\n",
       "      <td>15.609110</td>\n",
       "      <td>327.791305</td>\n",
       "      <td>312.182196</td>\n",
       "      <td>4.761905</td>\n",
       "      <td>15.609110</td>\n",
       "      <td>6.940319</td>\n",
       "    </tr>\n",
       "    <tr>\n",
       "      <th>Normal</th>\n",
       "      <td>55.135130</td>\n",
       "      <td>5.460922</td>\n",
       "      <td>15.148707</td>\n",
       "      <td>318.122856</td>\n",
       "      <td>302.974148</td>\n",
       "      <td>4.761905</td>\n",
       "      <td>15.148707</td>\n",
       "      <td>7.005210</td>\n",
       "    </tr>\n",
       "  </tbody>\n",
       "</table>\n",
       "</div>"
      ],
      "text/plain": [
       "               Unit price  Quantity     Tax 5%       Total        cogs  \\\n",
       "Customer type                                                            \n",
       "Member          56.206986  5.558882  15.609110  327.791305  312.182196   \n",
       "Normal          55.135130  5.460922  15.148707  318.122856  302.974148   \n",
       "\n",
       "               gross margin percentage  gross income    Rating  \n",
       "Customer type                                                   \n",
       "Member                        4.761905     15.609110  6.940319  \n",
       "Normal                        4.761905     15.148707  7.005210  "
      ]
     },
     "execution_count": 19,
     "metadata": {},
     "output_type": "execute_result"
    }
   ],
   "source": [
    "df.groupby('Customer type').mean()"
   ]
  },
  {
   "cell_type": "markdown",
   "metadata": {},
   "source": [
    "Analisando as médias, há diferenças significativas no **\"Total¨** e no **\"cogs\"** dos clientes membros em comparação com os clientes normais. "
   ]
  },
  {
   "cell_type": "markdown",
   "metadata": {},
   "source": [
    "Ainda utilizando o método \"groupby\", vamos analisar o desempenho das tres cidades. "
   ]
  },
  {
   "cell_type": "code",
   "execution_count": 22,
   "metadata": {},
   "outputs": [
    {
     "data": {
      "text/html": [
       "<div>\n",
       "<style scoped>\n",
       "    .dataframe tbody tr th:only-of-type {\n",
       "        vertical-align: middle;\n",
       "    }\n",
       "\n",
       "    .dataframe tbody tr th {\n",
       "        vertical-align: top;\n",
       "    }\n",
       "\n",
       "    .dataframe thead th {\n",
       "        text-align: right;\n",
       "    }\n",
       "</style>\n",
       "<table border=\"1\" class=\"dataframe\">\n",
       "  <thead>\n",
       "    <tr style=\"text-align: right;\">\n",
       "      <th></th>\n",
       "      <th>Unit price</th>\n",
       "      <th>Quantity</th>\n",
       "      <th>Tax 5%</th>\n",
       "      <th>Total</th>\n",
       "      <th>cogs</th>\n",
       "      <th>gross margin percentage</th>\n",
       "      <th>gross income</th>\n",
       "      <th>Rating</th>\n",
       "    </tr>\n",
       "    <tr>\n",
       "      <th>City</th>\n",
       "      <th></th>\n",
       "      <th></th>\n",
       "      <th></th>\n",
       "      <th></th>\n",
       "      <th></th>\n",
       "      <th></th>\n",
       "      <th></th>\n",
       "      <th></th>\n",
       "    </tr>\n",
       "  </thead>\n",
       "  <tbody>\n",
       "    <tr>\n",
       "      <th>Mandalay</th>\n",
       "      <td>55.659277</td>\n",
       "      <td>5.481928</td>\n",
       "      <td>15.232024</td>\n",
       "      <td>319.872506</td>\n",
       "      <td>304.640482</td>\n",
       "      <td>4.761905</td>\n",
       "      <td>15.232024</td>\n",
       "      <td>6.818072</td>\n",
       "    </tr>\n",
       "    <tr>\n",
       "      <th>Naypyitaw</th>\n",
       "      <td>56.609024</td>\n",
       "      <td>5.582317</td>\n",
       "      <td>16.052367</td>\n",
       "      <td>337.099715</td>\n",
       "      <td>321.047348</td>\n",
       "      <td>4.761905</td>\n",
       "      <td>16.052367</td>\n",
       "      <td>7.072866</td>\n",
       "    </tr>\n",
       "    <tr>\n",
       "      <th>Yangon</th>\n",
       "      <td>54.780853</td>\n",
       "      <td>5.467647</td>\n",
       "      <td>14.874001</td>\n",
       "      <td>312.354031</td>\n",
       "      <td>297.480029</td>\n",
       "      <td>4.761905</td>\n",
       "      <td>14.874001</td>\n",
       "      <td>7.027059</td>\n",
       "    </tr>\n",
       "  </tbody>\n",
       "</table>\n",
       "</div>"
      ],
      "text/plain": [
       "           Unit price  Quantity     Tax 5%       Total        cogs  \\\n",
       "City                                                                 \n",
       "Mandalay    55.659277  5.481928  15.232024  319.872506  304.640482   \n",
       "Naypyitaw   56.609024  5.582317  16.052367  337.099715  321.047348   \n",
       "Yangon      54.780853  5.467647  14.874001  312.354031  297.480029   \n",
       "\n",
       "           gross margin percentage  gross income    Rating  \n",
       "City                                                        \n",
       "Mandalay                  4.761905     15.232024  6.818072  \n",
       "Naypyitaw                 4.761905     16.052367  7.072866  \n",
       "Yangon                    4.761905     14.874001  7.027059  "
      ]
     },
     "execution_count": 22,
     "metadata": {},
     "output_type": "execute_result"
    }
   ],
   "source": [
    "df.groupby('City').mean()"
   ]
  },
  {
   "cell_type": "markdown",
   "metadata": {},
   "source": [
    "Visto que a cidade com o melhor desempenho médio é **\"Naypyitaw\"**, vamos analisar quais linhas de produtos estão tendo os melhores números. "
   ]
  },
  {
   "cell_type": "code",
   "execution_count": 3,
   "metadata": {},
   "outputs": [
    {
     "data": {
      "text/html": [
       "<div>\n",
       "<style scoped>\n",
       "    .dataframe tbody tr th:only-of-type {\n",
       "        vertical-align: middle;\n",
       "    }\n",
       "\n",
       "    .dataframe tbody tr th {\n",
       "        vertical-align: top;\n",
       "    }\n",
       "\n",
       "    .dataframe thead th {\n",
       "        text-align: right;\n",
       "    }\n",
       "</style>\n",
       "<table border=\"1\" class=\"dataframe\">\n",
       "  <thead>\n",
       "    <tr style=\"text-align: right;\">\n",
       "      <th></th>\n",
       "      <th>Unit price</th>\n",
       "      <th>Quantity</th>\n",
       "      <th>Tax 5%</th>\n",
       "      <th>Total</th>\n",
       "      <th>cogs</th>\n",
       "      <th>gross margin percentage</th>\n",
       "      <th>gross income</th>\n",
       "      <th>Rating</th>\n",
       "    </tr>\n",
       "    <tr>\n",
       "      <th>Product line</th>\n",
       "      <th></th>\n",
       "      <th></th>\n",
       "      <th></th>\n",
       "      <th></th>\n",
       "      <th></th>\n",
       "      <th></th>\n",
       "      <th></th>\n",
       "      <th></th>\n",
       "    </tr>\n",
       "  </thead>\n",
       "  <tbody>\n",
       "    <tr>\n",
       "      <th>Electronic accessories</th>\n",
       "      <td>55.809455</td>\n",
       "      <td>6.054545</td>\n",
       "      <td>16.423355</td>\n",
       "      <td>344.890445</td>\n",
       "      <td>328.467091</td>\n",
       "      <td>4.761905</td>\n",
       "      <td>16.423355</td>\n",
       "      <td>6.747273</td>\n",
       "    </tr>\n",
       "    <tr>\n",
       "      <th>Fashion accessories</th>\n",
       "      <td>59.736000</td>\n",
       "      <td>5.261538</td>\n",
       "      <td>15.794923</td>\n",
       "      <td>331.693385</td>\n",
       "      <td>315.898462</td>\n",
       "      <td>4.761905</td>\n",
       "      <td>15.794923</td>\n",
       "      <td>7.440000</td>\n",
       "    </tr>\n",
       "    <tr>\n",
       "      <th>Food and beverages</th>\n",
       "      <td>57.273030</td>\n",
       "      <td>5.590909</td>\n",
       "      <td>17.147803</td>\n",
       "      <td>360.103864</td>\n",
       "      <td>342.956061</td>\n",
       "      <td>4.761905</td>\n",
       "      <td>17.147803</td>\n",
       "      <td>7.080303</td>\n",
       "    </tr>\n",
       "    <tr>\n",
       "      <th>Health and beauty</th>\n",
       "      <td>55.971346</td>\n",
       "      <td>5.326923</td>\n",
       "      <td>15.215500</td>\n",
       "      <td>319.525500</td>\n",
       "      <td>304.310000</td>\n",
       "      <td>4.761905</td>\n",
       "      <td>15.215500</td>\n",
       "      <td>6.998077</td>\n",
       "    </tr>\n",
       "    <tr>\n",
       "      <th>Home and lifestyle</th>\n",
       "      <td>54.334222</td>\n",
       "      <td>5.444444</td>\n",
       "      <td>14.704289</td>\n",
       "      <td>308.790067</td>\n",
       "      <td>294.085778</td>\n",
       "      <td>4.761905</td>\n",
       "      <td>14.704289</td>\n",
       "      <td>7.060000</td>\n",
       "    </tr>\n",
       "    <tr>\n",
       "      <th>Sports and travel</th>\n",
       "      <td>55.107333</td>\n",
       "      <td>5.888889</td>\n",
       "      <td>16.679289</td>\n",
       "      <td>350.265067</td>\n",
       "      <td>333.585778</td>\n",
       "      <td>4.761905</td>\n",
       "      <td>16.679289</td>\n",
       "      <td>7.028889</td>\n",
       "    </tr>\n",
       "  </tbody>\n",
       "</table>\n",
       "</div>"
      ],
      "text/plain": [
       "                        Unit price  Quantity     Tax 5%       Total  \\\n",
       "Product line                                                          \n",
       "Electronic accessories   55.809455  6.054545  16.423355  344.890445   \n",
       "Fashion accessories      59.736000  5.261538  15.794923  331.693385   \n",
       "Food and beverages       57.273030  5.590909  17.147803  360.103864   \n",
       "Health and beauty        55.971346  5.326923  15.215500  319.525500   \n",
       "Home and lifestyle       54.334222  5.444444  14.704289  308.790067   \n",
       "Sports and travel        55.107333  5.888889  16.679289  350.265067   \n",
       "\n",
       "                              cogs  gross margin percentage  gross income  \\\n",
       "Product line                                                                \n",
       "Electronic accessories  328.467091                 4.761905     16.423355   \n",
       "Fashion accessories     315.898462                 4.761905     15.794923   \n",
       "Food and beverages      342.956061                 4.761905     17.147803   \n",
       "Health and beauty       304.310000                 4.761905     15.215500   \n",
       "Home and lifestyle      294.085778                 4.761905     14.704289   \n",
       "Sports and travel       333.585778                 4.761905     16.679289   \n",
       "\n",
       "                          Rating  \n",
       "Product line                      \n",
       "Electronic accessories  6.747273  \n",
       "Fashion accessories     7.440000  \n",
       "Food and beverages      7.080303  \n",
       "Health and beauty       6.998077  \n",
       "Home and lifestyle      7.060000  \n",
       "Sports and travel       7.028889  "
      ]
     },
     "execution_count": 3,
     "metadata": {},
     "output_type": "execute_result"
    }
   ],
   "source": [
    "df[df['City']=='Naypyitaw'].groupby('Product line').mean()"
   ]
  },
  {
   "cell_type": "markdown",
   "metadata": {},
   "source": [
    "Analisando os números vemos que a área de **\"Food and bevaranges\"** está tendo o melhor desempenho. <br>\n",
    "Na questão \"Rating\" a area com a melhor nota é a area de **\"Fashion accessories\"**;<br>\n",
    "E a area com a pior nota é a area de **\"Electronic accessories\"**."
   ]
  },
  {
   "cell_type": "markdown",
   "metadata": {},
   "source": [
    "Vamos utilizar a mesma análise para as demais cidades. "
   ]
  },
  {
   "cell_type": "code",
   "execution_count": 5,
   "metadata": {},
   "outputs": [
    {
     "data": {
      "text/html": [
       "<div>\n",
       "<style scoped>\n",
       "    .dataframe tbody tr th:only-of-type {\n",
       "        vertical-align: middle;\n",
       "    }\n",
       "\n",
       "    .dataframe tbody tr th {\n",
       "        vertical-align: top;\n",
       "    }\n",
       "\n",
       "    .dataframe thead th {\n",
       "        text-align: right;\n",
       "    }\n",
       "</style>\n",
       "<table border=\"1\" class=\"dataframe\">\n",
       "  <thead>\n",
       "    <tr style=\"text-align: right;\">\n",
       "      <th></th>\n",
       "      <th>Unit price</th>\n",
       "      <th>Quantity</th>\n",
       "      <th>Tax 5%</th>\n",
       "      <th>Total</th>\n",
       "      <th>cogs</th>\n",
       "      <th>gross margin percentage</th>\n",
       "      <th>gross income</th>\n",
       "      <th>Rating</th>\n",
       "    </tr>\n",
       "    <tr>\n",
       "      <th>Product line</th>\n",
       "      <th></th>\n",
       "      <th></th>\n",
       "      <th></th>\n",
       "      <th></th>\n",
       "      <th></th>\n",
       "      <th></th>\n",
       "      <th></th>\n",
       "      <th></th>\n",
       "    </tr>\n",
       "  </thead>\n",
       "  <tbody>\n",
       "    <tr>\n",
       "      <th>Electronic accessories</th>\n",
       "      <td>54.871167</td>\n",
       "      <td>5.366667</td>\n",
       "      <td>14.537392</td>\n",
       "      <td>305.285225</td>\n",
       "      <td>290.747833</td>\n",
       "      <td>4.761905</td>\n",
       "      <td>14.537392</td>\n",
       "      <td>6.911667</td>\n",
       "    </tr>\n",
       "    <tr>\n",
       "      <th>Fashion accessories</th>\n",
       "      <td>56.670392</td>\n",
       "      <td>5.156863</td>\n",
       "      <td>15.249775</td>\n",
       "      <td>320.245265</td>\n",
       "      <td>304.995490</td>\n",
       "      <td>4.761905</td>\n",
       "      <td>15.249775</td>\n",
       "      <td>6.878431</td>\n",
       "    </tr>\n",
       "    <tr>\n",
       "      <th>Food and beverages</th>\n",
       "      <td>54.974483</td>\n",
       "      <td>5.396552</td>\n",
       "      <td>14.091216</td>\n",
       "      <td>295.915526</td>\n",
       "      <td>281.824310</td>\n",
       "      <td>4.761905</td>\n",
       "      <td>14.091216</td>\n",
       "      <td>7.253448</td>\n",
       "    </tr>\n",
       "    <tr>\n",
       "      <th>Health and beauty</th>\n",
       "      <td>49.862340</td>\n",
       "      <td>5.468085</td>\n",
       "      <td>12.763681</td>\n",
       "      <td>268.037298</td>\n",
       "      <td>255.273617</td>\n",
       "      <td>4.761905</td>\n",
       "      <td>12.763681</td>\n",
       "      <td>6.900000</td>\n",
       "    </tr>\n",
       "    <tr>\n",
       "      <th>Home and lifestyle</th>\n",
       "      <td>55.845692</td>\n",
       "      <td>5.707692</td>\n",
       "      <td>16.422854</td>\n",
       "      <td>344.879931</td>\n",
       "      <td>328.457077</td>\n",
       "      <td>4.761905</td>\n",
       "      <td>16.422854</td>\n",
       "      <td>6.930769</td>\n",
       "    </tr>\n",
       "    <tr>\n",
       "      <th>Sports and travel</th>\n",
       "      <td>55.610339</td>\n",
       "      <td>5.644068</td>\n",
       "      <td>15.635754</td>\n",
       "      <td>328.350839</td>\n",
       "      <td>312.715085</td>\n",
       "      <td>4.761905</td>\n",
       "      <td>15.635754</td>\n",
       "      <td>7.257627</td>\n",
       "    </tr>\n",
       "  </tbody>\n",
       "</table>\n",
       "</div>"
      ],
      "text/plain": [
       "                        Unit price  Quantity     Tax 5%       Total  \\\n",
       "Product line                                                          \n",
       "Electronic accessories   54.871167  5.366667  14.537392  305.285225   \n",
       "Fashion accessories      56.670392  5.156863  15.249775  320.245265   \n",
       "Food and beverages       54.974483  5.396552  14.091216  295.915526   \n",
       "Health and beauty        49.862340  5.468085  12.763681  268.037298   \n",
       "Home and lifestyle       55.845692  5.707692  16.422854  344.879931   \n",
       "Sports and travel        55.610339  5.644068  15.635754  328.350839   \n",
       "\n",
       "                              cogs  gross margin percentage  gross income  \\\n",
       "Product line                                                                \n",
       "Electronic accessories  290.747833                 4.761905     14.537392   \n",
       "Fashion accessories     304.995490                 4.761905     15.249775   \n",
       "Food and beverages      281.824310                 4.761905     14.091216   \n",
       "Health and beauty       255.273617                 4.761905     12.763681   \n",
       "Home and lifestyle      328.457077                 4.761905     16.422854   \n",
       "Sports and travel       312.715085                 4.761905     15.635754   \n",
       "\n",
       "                          Rating  \n",
       "Product line                      \n",
       "Electronic accessories  6.911667  \n",
       "Fashion accessories     6.878431  \n",
       "Food and beverages      7.253448  \n",
       "Health and beauty       6.900000  \n",
       "Home and lifestyle      6.930769  \n",
       "Sports and travel       7.257627  "
      ]
     },
     "execution_count": 5,
     "metadata": {},
     "output_type": "execute_result"
    }
   ],
   "source": [
    "df[df['City']=='Yangon'].groupby('Product line').mean()"
   ]
  },
  {
   "cell_type": "markdown",
   "metadata": {},
   "source": [
    "Neste caso o setor com melhor desempenho é o **\"Home and lifestyle\"**.<br>\n",
    "No quesito nota, a cidade de \"Yangon\" é a que apresenta as piores notas, dentre as tres cidades. "
   ]
  },
  {
   "cell_type": "code",
   "execution_count": 6,
   "metadata": {},
   "outputs": [
    {
     "data": {
      "text/html": [
       "<div>\n",
       "<style scoped>\n",
       "    .dataframe tbody tr th:only-of-type {\n",
       "        vertical-align: middle;\n",
       "    }\n",
       "\n",
       "    .dataframe tbody tr th {\n",
       "        vertical-align: top;\n",
       "    }\n",
       "\n",
       "    .dataframe thead th {\n",
       "        text-align: right;\n",
       "    }\n",
       "</style>\n",
       "<table border=\"1\" class=\"dataframe\">\n",
       "  <thead>\n",
       "    <tr style=\"text-align: right;\">\n",
       "      <th></th>\n",
       "      <th>Unit price</th>\n",
       "      <th>Quantity</th>\n",
       "      <th>Tax 5%</th>\n",
       "      <th>Total</th>\n",
       "      <th>cogs</th>\n",
       "      <th>gross margin percentage</th>\n",
       "      <th>gross income</th>\n",
       "      <th>Rating</th>\n",
       "    </tr>\n",
       "    <tr>\n",
       "      <th>Product line</th>\n",
       "      <th></th>\n",
       "      <th></th>\n",
       "      <th></th>\n",
       "      <th></th>\n",
       "      <th></th>\n",
       "      <th></th>\n",
       "      <th></th>\n",
       "      <th></th>\n",
       "    </tr>\n",
       "  </thead>\n",
       "  <tbody>\n",
       "    <tr>\n",
       "      <th>Electronic accessories</th>\n",
       "      <td>49.854182</td>\n",
       "      <td>5.745455</td>\n",
       "      <td>14.763155</td>\n",
       "      <td>310.026245</td>\n",
       "      <td>295.263091</td>\n",
       "      <td>4.761905</td>\n",
       "      <td>14.763155</td>\n",
       "      <td>7.116364</td>\n",
       "    </tr>\n",
       "    <tr>\n",
       "      <th>Fashion accessories</th>\n",
       "      <td>54.843871</td>\n",
       "      <td>4.790323</td>\n",
       "      <td>12.606234</td>\n",
       "      <td>264.730911</td>\n",
       "      <td>252.124677</td>\n",
       "      <td>4.761905</td>\n",
       "      <td>12.606234</td>\n",
       "      <td>6.722581</td>\n",
       "    </tr>\n",
       "    <tr>\n",
       "      <th>Food and beverages</th>\n",
       "      <td>55.540000</td>\n",
       "      <td>5.400000</td>\n",
       "      <td>14.490370</td>\n",
       "      <td>304.297770</td>\n",
       "      <td>289.807400</td>\n",
       "      <td>4.761905</td>\n",
       "      <td>14.490370</td>\n",
       "      <td>6.994000</td>\n",
       "    </tr>\n",
       "    <tr>\n",
       "      <th>Health and beauty</th>\n",
       "      <td>58.185660</td>\n",
       "      <td>6.037736</td>\n",
       "      <td>17.952075</td>\n",
       "      <td>376.993585</td>\n",
       "      <td>359.041509</td>\n",
       "      <td>4.761905</td>\n",
       "      <td>17.952075</td>\n",
       "      <td>7.100000</td>\n",
       "    </tr>\n",
       "    <tr>\n",
       "      <th>Home and lifestyle</th>\n",
       "      <td>55.514000</td>\n",
       "      <td>5.900000</td>\n",
       "      <td>16.713490</td>\n",
       "      <td>350.983290</td>\n",
       "      <td>334.269800</td>\n",
       "      <td>4.761905</td>\n",
       "      <td>16.713490</td>\n",
       "      <td>6.516000</td>\n",
       "    </tr>\n",
       "    <tr>\n",
       "      <th>Sports and travel</th>\n",
       "      <td>59.678065</td>\n",
       "      <td>5.193548</td>\n",
       "      <td>15.351919</td>\n",
       "      <td>322.390306</td>\n",
       "      <td>307.038387</td>\n",
       "      <td>4.761905</td>\n",
       "      <td>15.351919</td>\n",
       "      <td>6.509677</td>\n",
       "    </tr>\n",
       "  </tbody>\n",
       "</table>\n",
       "</div>"
      ],
      "text/plain": [
       "                        Unit price  Quantity     Tax 5%       Total  \\\n",
       "Product line                                                          \n",
       "Electronic accessories   49.854182  5.745455  14.763155  310.026245   \n",
       "Fashion accessories      54.843871  4.790323  12.606234  264.730911   \n",
       "Food and beverages       55.540000  5.400000  14.490370  304.297770   \n",
       "Health and beauty        58.185660  6.037736  17.952075  376.993585   \n",
       "Home and lifestyle       55.514000  5.900000  16.713490  350.983290   \n",
       "Sports and travel        59.678065  5.193548  15.351919  322.390306   \n",
       "\n",
       "                              cogs  gross margin percentage  gross income  \\\n",
       "Product line                                                                \n",
       "Electronic accessories  295.263091                 4.761905     14.763155   \n",
       "Fashion accessories     252.124677                 4.761905     12.606234   \n",
       "Food and beverages      289.807400                 4.761905     14.490370   \n",
       "Health and beauty       359.041509                 4.761905     17.952075   \n",
       "Home and lifestyle      334.269800                 4.761905     16.713490   \n",
       "Sports and travel       307.038387                 4.761905     15.351919   \n",
       "\n",
       "                          Rating  \n",
       "Product line                      \n",
       "Electronic accessories  7.116364  \n",
       "Fashion accessories     6.722581  \n",
       "Food and beverages      6.994000  \n",
       "Health and beauty       7.100000  \n",
       "Home and lifestyle      6.516000  \n",
       "Sports and travel       6.509677  "
      ]
     },
     "execution_count": 6,
     "metadata": {},
     "output_type": "execute_result"
    }
   ],
   "source": [
    "df[df['City']=='Mandalay'].groupby('Product line').mean()"
   ]
  },
  {
   "cell_type": "markdown",
   "metadata": {},
   "source": [
    "Na cidade de \"Mandalay\", o setor com melhor desempenho é o setor de **\"Health and beauty\"**.<br>\n",
    "No quesito nota, as piores notas estão nos setores de **\"Sports and travel\"**, e **\"Home and lifestyle\"**.  "
   ]
  },
  {
   "cell_type": "markdown",
   "metadata": {},
   "source": [
    "Agora vamos ver como está a participação dos homens e mulheres. <br><br>\n",
    "Vamos analisar como eles estão divididos entre as linhas de produtos."
   ]
  },
  {
   "cell_type": "code",
   "execution_count": 4,
   "metadata": {},
   "outputs": [
    {
     "data": {
      "text/plain": [
       "<matplotlib.axes._subplots.AxesSubplot at 0xdcef4e5cc8>"
      ]
     },
     "execution_count": 4,
     "metadata": {},
     "output_type": "execute_result"
    },
    {
     "data": {
      "image/png": "[encoded data removed]",
      "text/plain": [
       "<Figure size 864x576 with 1 Axes>"
      ]
     },
     "metadata": {},
     "output_type": "display_data"
    }
   ],
   "source": [
    "plt.figure(figsize=(12,8))\n",
    "sns.set_style('darkgrid')\n",
    "sns.countplot(x='Product line', hue='Gender', data=df)"
   ]
  },
  {
   "cell_type": "markdown",
   "metadata": {},
   "source": [
    "Nota se que há uma presença feminina nas linhas de \"Sports and travel\", \"Food and beverages\", \"Fashion accessories\", já mais homens comprarm produtos de linhas como \"Health and beauty\", \"Electronic accessories\", \"Home and lifestyle\""
   ]
  },
  {
   "cell_type": "markdown",
   "metadata": {},
   "source": [
    "Agora vamos analisar numericamente a relação **\"Product line\"** **\"Gender\"** "
   ]
  },
  {
   "cell_type": "code",
   "execution_count": 7,
   "metadata": {},
   "outputs": [
    {
     "data": {
      "text/html": [
       "<div>\n",
       "<style scoped>\n",
       "    .dataframe tbody tr th:only-of-type {\n",
       "        vertical-align: middle;\n",
       "    }\n",
       "\n",
       "    .dataframe tbody tr th {\n",
       "        vertical-align: top;\n",
       "    }\n",
       "\n",
       "    .dataframe thead th {\n",
       "        text-align: right;\n",
       "    }\n",
       "</style>\n",
       "<table border=\"1\" class=\"dataframe\">\n",
       "  <thead>\n",
       "    <tr style=\"text-align: right;\">\n",
       "      <th></th>\n",
       "      <th>Unit price</th>\n",
       "      <th>Quantity</th>\n",
       "      <th>Tax 5%</th>\n",
       "      <th>Total</th>\n",
       "      <th>cogs</th>\n",
       "      <th>gross margin percentage</th>\n",
       "      <th>gross income</th>\n",
       "      <th>Rating</th>\n",
       "    </tr>\n",
       "    <tr>\n",
       "      <th>Product line</th>\n",
       "      <th></th>\n",
       "      <th></th>\n",
       "      <th></th>\n",
       "      <th></th>\n",
       "      <th></th>\n",
       "      <th></th>\n",
       "      <th></th>\n",
       "      <th></th>\n",
       "    </tr>\n",
       "  </thead>\n",
       "  <tbody>\n",
       "    <tr>\n",
       "      <th>Electronic accessories</th>\n",
       "      <td>55.016744</td>\n",
       "      <td>5.616279</td>\n",
       "      <td>15.080570</td>\n",
       "      <td>316.691965</td>\n",
       "      <td>301.611395</td>\n",
       "      <td>4.761905</td>\n",
       "      <td>15.080570</td>\n",
       "      <td>7.059302</td>\n",
       "    </tr>\n",
       "    <tr>\n",
       "      <th>Fashion accessories</th>\n",
       "      <td>59.058049</td>\n",
       "      <td>4.536585</td>\n",
       "      <td>13.860915</td>\n",
       "      <td>291.079207</td>\n",
       "      <td>277.218293</td>\n",
       "      <td>4.761905</td>\n",
       "      <td>13.860915</td>\n",
       "      <td>6.921951</td>\n",
       "    </tr>\n",
       "    <tr>\n",
       "      <th>Food and beverages</th>\n",
       "      <td>51.635833</td>\n",
       "      <td>5.214286</td>\n",
       "      <td>13.023768</td>\n",
       "      <td>273.499125</td>\n",
       "      <td>260.475357</td>\n",
       "      <td>4.761905</td>\n",
       "      <td>13.023768</td>\n",
       "      <td>7.016667</td>\n",
       "    </tr>\n",
       "    <tr>\n",
       "      <th>Health and beauty</th>\n",
       "      <td>57.592841</td>\n",
       "      <td>5.806818</td>\n",
       "      <td>16.576165</td>\n",
       "      <td>348.099460</td>\n",
       "      <td>331.523295</td>\n",
       "      <td>4.761905</td>\n",
       "      <td>16.576165</td>\n",
       "      <td>6.898864</td>\n",
       "    </tr>\n",
       "    <tr>\n",
       "      <th>Home and lifestyle</th>\n",
       "      <td>53.438889</td>\n",
       "      <td>5.098765</td>\n",
       "      <td>14.006488</td>\n",
       "      <td>294.136241</td>\n",
       "      <td>280.129753</td>\n",
       "      <td>4.761905</td>\n",
       "      <td>14.006488</td>\n",
       "      <td>6.909877</td>\n",
       "    </tr>\n",
       "    <tr>\n",
       "      <th>Sports and travel</th>\n",
       "      <td>59.955897</td>\n",
       "      <td>5.435897</td>\n",
       "      <td>16.207635</td>\n",
       "      <td>340.360327</td>\n",
       "      <td>324.152692</td>\n",
       "      <td>4.761905</td>\n",
       "      <td>16.207635</td>\n",
       "      <td>7.084615</td>\n",
       "    </tr>\n",
       "  </tbody>\n",
       "</table>\n",
       "</div>"
      ],
      "text/plain": [
       "                        Unit price  Quantity     Tax 5%       Total  \\\n",
       "Product line                                                          \n",
       "Electronic accessories   55.016744  5.616279  15.080570  316.691965   \n",
       "Fashion accessories      59.058049  4.536585  13.860915  291.079207   \n",
       "Food and beverages       51.635833  5.214286  13.023768  273.499125   \n",
       "Health and beauty        57.592841  5.806818  16.576165  348.099460   \n",
       "Home and lifestyle       53.438889  5.098765  14.006488  294.136241   \n",
       "Sports and travel        59.955897  5.435897  16.207635  340.360327   \n",
       "\n",
       "                              cogs  gross margin percentage  gross income  \\\n",
       "Product line                                                                \n",
       "Electronic accessories  301.611395                 4.761905     15.080570   \n",
       "Fashion accessories     277.218293                 4.761905     13.860915   \n",
       "Food and beverages      260.475357                 4.761905     13.023768   \n",
       "Health and beauty       331.523295                 4.761905     16.576165   \n",
       "Home and lifestyle      280.129753                 4.761905     14.006488   \n",
       "Sports and travel       324.152692                 4.761905     16.207635   \n",
       "\n",
       "                          Rating  \n",
       "Product line                      \n",
       "Electronic accessories  7.059302  \n",
       "Fashion accessories     6.921951  \n",
       "Food and beverages      7.016667  \n",
       "Health and beauty       6.898864  \n",
       "Home and lifestyle      6.909877  \n",
       "Sports and travel       7.084615  "
      ]
     },
     "execution_count": 7,
     "metadata": {},
     "output_type": "execute_result"
    }
   ],
   "source": [
    "#Homens.\n",
    "df[df['Gender']=='Male'].groupby('Product line').mean() "
   ]
  },
  {
   "cell_type": "code",
   "execution_count": 6,
   "metadata": {},
   "outputs": [
    {
     "data": {
      "text/html": [
       "<div>\n",
       "<style scoped>\n",
       "    .dataframe tbody tr th:only-of-type {\n",
       "        vertical-align: middle;\n",
       "    }\n",
       "\n",
       "    .dataframe tbody tr th {\n",
       "        vertical-align: top;\n",
       "    }\n",
       "\n",
       "    .dataframe thead th {\n",
       "        text-align: right;\n",
       "    }\n",
       "</style>\n",
       "<table border=\"1\" class=\"dataframe\">\n",
       "  <thead>\n",
       "    <tr style=\"text-align: right;\">\n",
       "      <th></th>\n",
       "      <th>Unit price</th>\n",
       "      <th>Quantity</th>\n",
       "      <th>Tax 5%</th>\n",
       "      <th>Total</th>\n",
       "      <th>cogs</th>\n",
       "      <th>gross margin percentage</th>\n",
       "      <th>gross income</th>\n",
       "      <th>Rating</th>\n",
       "    </tr>\n",
       "    <tr>\n",
       "      <th>Product line</th>\n",
       "      <th></th>\n",
       "      <th></th>\n",
       "      <th></th>\n",
       "      <th></th>\n",
       "      <th></th>\n",
       "      <th></th>\n",
       "      <th></th>\n",
       "      <th></th>\n",
       "    </tr>\n",
       "  </thead>\n",
       "  <tbody>\n",
       "    <tr>\n",
       "      <th>Electronic accessories</th>\n",
       "      <td>52.051548</td>\n",
       "      <td>5.809524</td>\n",
       "      <td>15.363958</td>\n",
       "      <td>322.643125</td>\n",
       "      <td>307.279167</td>\n",
       "      <td>4.761905</td>\n",
       "      <td>15.363958</td>\n",
       "      <td>6.786905</td>\n",
       "    </tr>\n",
       "    <tr>\n",
       "      <th>Fashion accessories</th>\n",
       "      <td>55.526979</td>\n",
       "      <td>5.520833</td>\n",
       "      <td>15.097917</td>\n",
       "      <td>317.056250</td>\n",
       "      <td>301.958333</td>\n",
       "      <td>4.761905</td>\n",
       "      <td>15.097917</td>\n",
       "      <td>7.120833</td>\n",
       "    </tr>\n",
       "    <tr>\n",
       "      <th>Food and beverages</th>\n",
       "      <td>60.090333</td>\n",
       "      <td>5.711111</td>\n",
       "      <td>17.550750</td>\n",
       "      <td>368.565750</td>\n",
       "      <td>351.015000</td>\n",
       "      <td>4.761905</td>\n",
       "      <td>17.550750</td>\n",
       "      <td>7.203333</td>\n",
       "    </tr>\n",
       "    <tr>\n",
       "      <th>Health and beauty</th>\n",
       "      <td>51.089219</td>\n",
       "      <td>5.359375</td>\n",
       "      <td>13.810258</td>\n",
       "      <td>290.015414</td>\n",
       "      <td>276.205156</td>\n",
       "      <td>4.761905</td>\n",
       "      <td>13.810258</td>\n",
       "      <td>7.146875</td>\n",
       "    </tr>\n",
       "    <tr>\n",
       "      <th>Home and lifestyle</th>\n",
       "      <td>57.242532</td>\n",
       "      <td>6.303797</td>\n",
       "      <td>18.105411</td>\n",
       "      <td>380.213639</td>\n",
       "      <td>362.108228</td>\n",
       "      <td>4.761905</td>\n",
       "      <td>18.105411</td>\n",
       "      <td>6.763291</td>\n",
       "    </tr>\n",
       "    <tr>\n",
       "      <th>Sports and travel</th>\n",
       "      <td>54.367273</td>\n",
       "      <td>5.636364</td>\n",
       "      <td>15.462511</td>\n",
       "      <td>324.712739</td>\n",
       "      <td>309.250227</td>\n",
       "      <td>4.761905</td>\n",
       "      <td>15.462511</td>\n",
       "      <td>6.767045</td>\n",
       "    </tr>\n",
       "  </tbody>\n",
       "</table>\n",
       "</div>"
      ],
      "text/plain": [
       "                        Unit price  Quantity     Tax 5%       Total  \\\n",
       "Product line                                                          \n",
       "Electronic accessories   52.051548  5.809524  15.363958  322.643125   \n",
       "Fashion accessories      55.526979  5.520833  15.097917  317.056250   \n",
       "Food and beverages       60.090333  5.711111  17.550750  368.565750   \n",
       "Health and beauty        51.089219  5.359375  13.810258  290.015414   \n",
       "Home and lifestyle       57.242532  6.303797  18.105411  380.213639   \n",
       "Sports and travel        54.367273  5.636364  15.462511  324.712739   \n",
       "\n",
       "                              cogs  gross margin percentage  gross income  \\\n",
       "Product line                                                                \n",
       "Electronic accessories  307.279167                 4.761905     15.363958   \n",
       "Fashion accessories     301.958333                 4.761905     15.097917   \n",
       "Food and beverages      351.015000                 4.761905     17.550750   \n",
       "Health and beauty       276.205156                 4.761905     13.810258   \n",
       "Home and lifestyle      362.108228                 4.761905     18.105411   \n",
       "Sports and travel       309.250227                 4.761905     15.462511   \n",
       "\n",
       "                          Rating  \n",
       "Product line                      \n",
       "Electronic accessories  6.786905  \n",
       "Fashion accessories     7.120833  \n",
       "Food and beverages      7.203333  \n",
       "Health and beauty       7.146875  \n",
       "Home and lifestyle      6.763291  \n",
       "Sports and travel       6.767045  "
      ]
     },
     "execution_count": 6,
     "metadata": {},
     "output_type": "execute_result"
    }
   ],
   "source": [
    "#Mulheres. \n",
    "df[df['Gender']=='Female'].groupby('Product line').mean()"
   ]
  },
  {
   "cell_type": "markdown",
   "metadata": {},
   "source": [
    "# Analisando as datas e horários. \n",
    "No DataFrame há a coluna **\"date\"** e **\"time\"**. Para que possamos trabalhar e visualiza-los graficamente, é necessarário realizar o tratamento correto dos mesmos. <br><br>\n",
    "Trabalhando com a coluna **\"Date\"**\n",
    "\n"
   ]
  },
  {
   "cell_type": "code",
   "execution_count": 13,
   "metadata": {},
   "outputs": [
    {
     "data": {
      "text/plain": [
       "0     1/5/2019\n",
       "1     3/8/2019\n",
       "2     3/3/2019\n",
       "3    1/27/2019\n",
       "4     2/8/2019\n",
       "Name: Date, dtype: object"
      ]
     },
     "execution_count": 13,
     "metadata": {},
     "output_type": "execute_result"
    }
   ],
   "source": [
    "df['Date'].head()"
   ]
  },
  {
   "cell_type": "markdown",
   "metadata": {},
   "source": [
    "Vamos aplicar uma função **lambda** e uma quebra **(.splt())**, para assim separar os meses dos dias, criando assim a coluna **\"Month\"**"
   ]
  },
  {
   "cell_type": "code",
   "execution_count": 4,
   "metadata": {},
   "outputs": [],
   "source": [
    "df['Month'] = df['Date'].apply(lambda Time: Time.split('/')[0])"
   ]
  },
  {
   "cell_type": "markdown",
   "metadata": {},
   "source": [
    "Aplicando o mesmo método, vamos criar a coluna **\"Day\"**"
   ]
  },
  {
   "cell_type": "code",
   "execution_count": 5,
   "metadata": {},
   "outputs": [],
   "source": [
    "df['Day'] = df['Date'].apply(lambda Time: Time.split('/')[1])"
   ]
  },
  {
   "cell_type": "code",
   "execution_count": 16,
   "metadata": {},
   "outputs": [
    {
     "data": {
      "text/html": [
       "<div>\n",
       "<style scoped>\n",
       "    .dataframe tbody tr th:only-of-type {\n",
       "        vertical-align: middle;\n",
       "    }\n",
       "\n",
       "    .dataframe tbody tr th {\n",
       "        vertical-align: top;\n",
       "    }\n",
       "\n",
       "    .dataframe thead th {\n",
       "        text-align: right;\n",
       "    }\n",
       "</style>\n",
       "<table border=\"1\" class=\"dataframe\">\n",
       "  <thead>\n",
       "    <tr style=\"text-align: right;\">\n",
       "      <th></th>\n",
       "      <th>Invoice ID</th>\n",
       "      <th>Branch</th>\n",
       "      <th>City</th>\n",
       "      <th>Customer type</th>\n",
       "      <th>Gender</th>\n",
       "      <th>Product line</th>\n",
       "      <th>Unit price</th>\n",
       "      <th>Quantity</th>\n",
       "      <th>Tax 5%</th>\n",
       "      <th>Total</th>\n",
       "      <th>Date</th>\n",
       "      <th>Time</th>\n",
       "      <th>Payment</th>\n",
       "      <th>cogs</th>\n",
       "      <th>gross margin percentage</th>\n",
       "      <th>gross income</th>\n",
       "      <th>Rating</th>\n",
       "      <th>Month</th>\n",
       "      <th>Day</th>\n",
       "    </tr>\n",
       "  </thead>\n",
       "  <tbody>\n",
       "    <tr>\n",
       "      <th>0</th>\n",
       "      <td>750-67-8428</td>\n",
       "      <td>A</td>\n",
       "      <td>Yangon</td>\n",
       "      <td>Member</td>\n",
       "      <td>Female</td>\n",
       "      <td>Health and beauty</td>\n",
       "      <td>74.69</td>\n",
       "      <td>7</td>\n",
       "      <td>26.1415</td>\n",
       "      <td>548.9715</td>\n",
       "      <td>1/5/2019</td>\n",
       "      <td>13:08</td>\n",
       "      <td>Ewallet</td>\n",
       "      <td>522.83</td>\n",
       "      <td>4.761905</td>\n",
       "      <td>26.1415</td>\n",
       "      <td>9.1</td>\n",
       "      <td>1</td>\n",
       "      <td>5</td>\n",
       "    </tr>\n",
       "    <tr>\n",
       "      <th>1</th>\n",
       "      <td>226-31-3081</td>\n",
       "      <td>C</td>\n",
       "      <td>Naypyitaw</td>\n",
       "      <td>Normal</td>\n",
       "      <td>Female</td>\n",
       "      <td>Electronic accessories</td>\n",
       "      <td>15.28</td>\n",
       "      <td>5</td>\n",
       "      <td>3.8200</td>\n",
       "      <td>80.2200</td>\n",
       "      <td>3/8/2019</td>\n",
       "      <td>10:29</td>\n",
       "      <td>Cash</td>\n",
       "      <td>76.40</td>\n",
       "      <td>4.761905</td>\n",
       "      <td>3.8200</td>\n",
       "      <td>9.6</td>\n",
       "      <td>3</td>\n",
       "      <td>8</td>\n",
       "    </tr>\n",
       "    <tr>\n",
       "      <th>2</th>\n",
       "      <td>631-41-3108</td>\n",
       "      <td>A</td>\n",
       "      <td>Yangon</td>\n",
       "      <td>Normal</td>\n",
       "      <td>Male</td>\n",
       "      <td>Home and lifestyle</td>\n",
       "      <td>46.33</td>\n",
       "      <td>7</td>\n",
       "      <td>16.2155</td>\n",
       "      <td>340.5255</td>\n",
       "      <td>3/3/2019</td>\n",
       "      <td>13:23</td>\n",
       "      <td>Credit card</td>\n",
       "      <td>324.31</td>\n",
       "      <td>4.761905</td>\n",
       "      <td>16.2155</td>\n",
       "      <td>7.4</td>\n",
       "      <td>3</td>\n",
       "      <td>3</td>\n",
       "    </tr>\n",
       "    <tr>\n",
       "      <th>3</th>\n",
       "      <td>123-19-1176</td>\n",
       "      <td>A</td>\n",
       "      <td>Yangon</td>\n",
       "      <td>Member</td>\n",
       "      <td>Male</td>\n",
       "      <td>Health and beauty</td>\n",
       "      <td>58.22</td>\n",
       "      <td>8</td>\n",
       "      <td>23.2880</td>\n",
       "      <td>489.0480</td>\n",
       "      <td>1/27/2019</td>\n",
       "      <td>20:33</td>\n",
       "      <td>Ewallet</td>\n",
       "      <td>465.76</td>\n",
       "      <td>4.761905</td>\n",
       "      <td>23.2880</td>\n",
       "      <td>8.4</td>\n",
       "      <td>1</td>\n",
       "      <td>27</td>\n",
       "    </tr>\n",
       "    <tr>\n",
       "      <th>4</th>\n",
       "      <td>373-73-7910</td>\n",
       "      <td>A</td>\n",
       "      <td>Yangon</td>\n",
       "      <td>Normal</td>\n",
       "      <td>Male</td>\n",
       "      <td>Sports and travel</td>\n",
       "      <td>86.31</td>\n",
       "      <td>7</td>\n",
       "      <td>30.2085</td>\n",
       "      <td>634.3785</td>\n",
       "      <td>2/8/2019</td>\n",
       "      <td>10:37</td>\n",
       "      <td>Ewallet</td>\n",
       "      <td>604.17</td>\n",
       "      <td>4.761905</td>\n",
       "      <td>30.2085</td>\n",
       "      <td>5.3</td>\n",
       "      <td>2</td>\n",
       "      <td>8</td>\n",
       "    </tr>\n",
       "  </tbody>\n",
       "</table>\n",
       "</div>"
      ],
      "text/plain": [
       "    Invoice ID Branch       City Customer type  Gender  \\\n",
       "0  750-67-8428      A     Yangon        Member  Female   \n",
       "1  226-31-3081      C  Naypyitaw        Normal  Female   \n",
       "2  631-41-3108      A     Yangon        Normal    Male   \n",
       "3  123-19-1176      A     Yangon        Member    Male   \n",
       "4  373-73-7910      A     Yangon        Normal    Male   \n",
       "\n",
       "             Product line  Unit price  Quantity   Tax 5%     Total       Date  \\\n",
       "0       Health and beauty       74.69         7  26.1415  548.9715   1/5/2019   \n",
       "1  Electronic accessories       15.28         5   3.8200   80.2200   3/8/2019   \n",
       "2      Home and lifestyle       46.33         7  16.2155  340.5255   3/3/2019   \n",
       "3       Health and beauty       58.22         8  23.2880  489.0480  1/27/2019   \n",
       "4       Sports and travel       86.31         7  30.2085  634.3785   2/8/2019   \n",
       "\n",
       "    Time      Payment    cogs  gross margin percentage  gross income  Rating  \\\n",
       "0  13:08      Ewallet  522.83                 4.761905       26.1415     9.1   \n",
       "1  10:29         Cash   76.40                 4.761905        3.8200     9.6   \n",
       "2  13:23  Credit card  324.31                 4.761905       16.2155     7.4   \n",
       "3  20:33      Ewallet  465.76                 4.761905       23.2880     8.4   \n",
       "4  10:37      Ewallet  604.17                 4.761905       30.2085     5.3   \n",
       "\n",
       "  Month Day  \n",
       "0     1   5  \n",
       "1     3   8  \n",
       "2     3   3  \n",
       "3     1  27  \n",
       "4     2   8  "
      ]
     },
     "execution_count": 16,
     "metadata": {},
     "output_type": "execute_result"
    }
   ],
   "source": [
    "df.head(5)"
   ]
  },
  {
   "cell_type": "markdown",
   "metadata": {},
   "source": [
    "Agora vamos trabalhar com a coluna **\"Time\"**<br>\n",
    "Aplicando o mesmo método utilizado na criação das colunas \"Month\" e \"Day\", agora criando a coluna **\"Hour\"**."
   ]
  },
  {
   "cell_type": "code",
   "execution_count": 17,
   "metadata": {},
   "outputs": [],
   "source": [
    "df['Hour'] = df['Time'].apply(lambda Time: Time.split(':')[0])"
   ]
  },
  {
   "cell_type": "code",
   "execution_count": 18,
   "metadata": {},
   "outputs": [
    {
     "data": {
      "text/html": [
       "<div>\n",
       "<style scoped>\n",
       "    .dataframe tbody tr th:only-of-type {\n",
       "        vertical-align: middle;\n",
       "    }\n",
       "\n",
       "    .dataframe tbody tr th {\n",
       "        vertical-align: top;\n",
       "    }\n",
       "\n",
       "    .dataframe thead th {\n",
       "        text-align: right;\n",
       "    }\n",
       "</style>\n",
       "<table border=\"1\" class=\"dataframe\">\n",
       "  <thead>\n",
       "    <tr style=\"text-align: right;\">\n",
       "      <th></th>\n",
       "      <th>Invoice ID</th>\n",
       "      <th>Branch</th>\n",
       "      <th>City</th>\n",
       "      <th>Customer type</th>\n",
       "      <th>Gender</th>\n",
       "      <th>Product line</th>\n",
       "      <th>Unit price</th>\n",
       "      <th>Quantity</th>\n",
       "      <th>Tax 5%</th>\n",
       "      <th>Total</th>\n",
       "      <th>Date</th>\n",
       "      <th>Time</th>\n",
       "      <th>Payment</th>\n",
       "      <th>cogs</th>\n",
       "      <th>gross margin percentage</th>\n",
       "      <th>gross income</th>\n",
       "      <th>Rating</th>\n",
       "      <th>Month</th>\n",
       "      <th>Day</th>\n",
       "      <th>Hour</th>\n",
       "    </tr>\n",
       "  </thead>\n",
       "  <tbody>\n",
       "    <tr>\n",
       "      <th>0</th>\n",
       "      <td>750-67-8428</td>\n",
       "      <td>A</td>\n",
       "      <td>Yangon</td>\n",
       "      <td>Member</td>\n",
       "      <td>Female</td>\n",
       "      <td>Health and beauty</td>\n",
       "      <td>74.69</td>\n",
       "      <td>7</td>\n",
       "      <td>26.1415</td>\n",
       "      <td>548.9715</td>\n",
       "      <td>1/5/2019</td>\n",
       "      <td>13:08</td>\n",
       "      <td>Ewallet</td>\n",
       "      <td>522.83</td>\n",
       "      <td>4.761905</td>\n",
       "      <td>26.1415</td>\n",
       "      <td>9.1</td>\n",
       "      <td>1</td>\n",
       "      <td>5</td>\n",
       "      <td>13</td>\n",
       "    </tr>\n",
       "    <tr>\n",
       "      <th>1</th>\n",
       "      <td>226-31-3081</td>\n",
       "      <td>C</td>\n",
       "      <td>Naypyitaw</td>\n",
       "      <td>Normal</td>\n",
       "      <td>Female</td>\n",
       "      <td>Electronic accessories</td>\n",
       "      <td>15.28</td>\n",
       "      <td>5</td>\n",
       "      <td>3.8200</td>\n",
       "      <td>80.2200</td>\n",
       "      <td>3/8/2019</td>\n",
       "      <td>10:29</td>\n",
       "      <td>Cash</td>\n",
       "      <td>76.40</td>\n",
       "      <td>4.761905</td>\n",
       "      <td>3.8200</td>\n",
       "      <td>9.6</td>\n",
       "      <td>3</td>\n",
       "      <td>8</td>\n",
       "      <td>10</td>\n",
       "    </tr>\n",
       "    <tr>\n",
       "      <th>2</th>\n",
       "      <td>631-41-3108</td>\n",
       "      <td>A</td>\n",
       "      <td>Yangon</td>\n",
       "      <td>Normal</td>\n",
       "      <td>Male</td>\n",
       "      <td>Home and lifestyle</td>\n",
       "      <td>46.33</td>\n",
       "      <td>7</td>\n",
       "      <td>16.2155</td>\n",
       "      <td>340.5255</td>\n",
       "      <td>3/3/2019</td>\n",
       "      <td>13:23</td>\n",
       "      <td>Credit card</td>\n",
       "      <td>324.31</td>\n",
       "      <td>4.761905</td>\n",
       "      <td>16.2155</td>\n",
       "      <td>7.4</td>\n",
       "      <td>3</td>\n",
       "      <td>3</td>\n",
       "      <td>13</td>\n",
       "    </tr>\n",
       "  </tbody>\n",
       "</table>\n",
       "</div>"
      ],
      "text/plain": [
       "    Invoice ID Branch       City Customer type  Gender  \\\n",
       "0  750-67-8428      A     Yangon        Member  Female   \n",
       "1  226-31-3081      C  Naypyitaw        Normal  Female   \n",
       "2  631-41-3108      A     Yangon        Normal    Male   \n",
       "\n",
       "             Product line  Unit price  Quantity   Tax 5%     Total      Date  \\\n",
       "0       Health and beauty       74.69         7  26.1415  548.9715  1/5/2019   \n",
       "1  Electronic accessories       15.28         5   3.8200   80.2200  3/8/2019   \n",
       "2      Home and lifestyle       46.33         7  16.2155  340.5255  3/3/2019   \n",
       "\n",
       "    Time      Payment    cogs  gross margin percentage  gross income  Rating  \\\n",
       "0  13:08      Ewallet  522.83                 4.761905       26.1415     9.1   \n",
       "1  10:29         Cash   76.40                 4.761905        3.8200     9.6   \n",
       "2  13:23  Credit card  324.31                 4.761905       16.2155     7.4   \n",
       "\n",
       "  Month Day Hour  \n",
       "0     1   5   13  \n",
       "1     3   8   10  \n",
       "2     3   3   13  "
      ]
     },
     "execution_count": 18,
     "metadata": {},
     "output_type": "execute_result"
    }
   ],
   "source": [
    "df.head(3)"
   ]
  },
  {
   "cell_type": "code",
   "execution_count": 19,
   "metadata": {},
   "outputs": [
    {
     "data": {
      "text/plain": [
       "1    352\n",
       "3    345\n",
       "2    303\n",
       "Name: Month, dtype: int64"
      ]
     },
     "execution_count": 19,
     "metadata": {},
     "output_type": "execute_result"
    }
   ],
   "source": [
    "df['Month'].value_counts()"
   ]
  },
  {
   "cell_type": "markdown",
   "metadata": {},
   "source": [
    "Vamos analisar qual mes teve o melhor desempenho"
   ]
  },
  {
   "cell_type": "code",
   "execution_count": 21,
   "metadata": {},
   "outputs": [
    {
     "data": {
      "text/html": [
       "<div>\n",
       "<style scoped>\n",
       "    .dataframe tbody tr th:only-of-type {\n",
       "        vertical-align: middle;\n",
       "    }\n",
       "\n",
       "    .dataframe tbody tr th {\n",
       "        vertical-align: top;\n",
       "    }\n",
       "\n",
       "    .dataframe thead th {\n",
       "        text-align: right;\n",
       "    }\n",
       "</style>\n",
       "<table border=\"1\" class=\"dataframe\">\n",
       "  <thead>\n",
       "    <tr style=\"text-align: right;\">\n",
       "      <th></th>\n",
       "      <th>Unit price</th>\n",
       "      <th>Quantity</th>\n",
       "      <th>Tax 5%</th>\n",
       "      <th>Total</th>\n",
       "      <th>cogs</th>\n",
       "      <th>gross margin percentage</th>\n",
       "      <th>gross income</th>\n",
       "      <th>Rating</th>\n",
       "    </tr>\n",
       "    <tr>\n",
       "      <th>Month</th>\n",
       "      <th></th>\n",
       "      <th></th>\n",
       "      <th></th>\n",
       "      <th></th>\n",
       "      <th></th>\n",
       "      <th></th>\n",
       "      <th></th>\n",
       "      <th></th>\n",
       "    </tr>\n",
       "  </thead>\n",
       "  <tbody>\n",
       "    <tr>\n",
       "      <th>1</th>\n",
       "      <td>56.119006</td>\n",
       "      <td>5.582386</td>\n",
       "      <td>15.732125</td>\n",
       "      <td>330.374625</td>\n",
       "      <td>314.642500</td>\n",
       "      <td>4.761905</td>\n",
       "      <td>15.732125</td>\n",
       "      <td>7.017614</td>\n",
       "    </tr>\n",
       "    <tr>\n",
       "      <th>2</th>\n",
       "      <td>56.632079</td>\n",
       "      <td>5.458746</td>\n",
       "      <td>15.278858</td>\n",
       "      <td>320.856020</td>\n",
       "      <td>305.577162</td>\n",
       "      <td>4.761905</td>\n",
       "      <td>15.278858</td>\n",
       "      <td>7.071287</td>\n",
       "    </tr>\n",
       "    <tr>\n",
       "      <th>3</th>\n",
       "      <td>54.373101</td>\n",
       "      <td>5.481159</td>\n",
       "      <td>15.107730</td>\n",
       "      <td>317.262339</td>\n",
       "      <td>302.154609</td>\n",
       "      <td>4.761905</td>\n",
       "      <td>15.107730</td>\n",
       "      <td>6.840290</td>\n",
       "    </tr>\n",
       "  </tbody>\n",
       "</table>\n",
       "</div>"
      ],
      "text/plain": [
       "       Unit price  Quantity     Tax 5%       Total        cogs  \\\n",
       "Month                                                            \n",
       "1       56.119006  5.582386  15.732125  330.374625  314.642500   \n",
       "2       56.632079  5.458746  15.278858  320.856020  305.577162   \n",
       "3       54.373101  5.481159  15.107730  317.262339  302.154609   \n",
       "\n",
       "       gross margin percentage  gross income    Rating  \n",
       "Month                                                   \n",
       "1                     4.761905     15.732125  7.017614  \n",
       "2                     4.761905     15.278858  7.071287  \n",
       "3                     4.761905     15.107730  6.840290  "
      ]
     },
     "execution_count": 21,
     "metadata": {},
     "output_type": "execute_result"
    }
   ],
   "source": [
    "df.groupby('Month').mean()"
   ]
  },
  {
   "cell_type": "markdown",
   "metadata": {},
   "source": [
    "Agora vamos analisar em quais dias houveram um maior fluxo de clientes. "
   ]
  },
  {
   "cell_type": "code",
   "execution_count": 10,
   "metadata": {},
   "outputs": [
    {
     "data": {
      "text/plain": [
       "<matplotlib.axes._subplots.AxesSubplot at 0xc4a5f12e88>"
      ]
     },
     "execution_count": 10,
     "metadata": {},
     "output_type": "execute_result"
    },
    {
     "data": {
      "image/png": "[encoded data removed]",
      "text/plain": [
       "<Figure size 648x432 with 1 Axes>"
      ]
     },
     "metadata": {},
     "output_type": "display_data"
    }
   ],
   "source": [
    "plt.figure(figsize=(9,6))\n",
    "sns.set_style(\"darkgrid\")\n",
    "df['Day'].hist()"
   ]
  },
  {
   "cell_type": "markdown",
   "metadata": {},
   "source": [
    "Agora vamos trabalhar a coluna **\"Payment\"(forma de pagamento)**, novamento utilizando o método \"groupby\". <br><br>\n",
    "Vamos calcular a média entre as formas de pagamento. "
   ]
  },
  {
   "cell_type": "code",
   "execution_count": 11,
   "metadata": {},
   "outputs": [
    {
     "data": {
      "text/html": [
       "<div>\n",
       "<style scoped>\n",
       "    .dataframe tbody tr th:only-of-type {\n",
       "        vertical-align: middle;\n",
       "    }\n",
       "\n",
       "    .dataframe tbody tr th {\n",
       "        vertical-align: top;\n",
       "    }\n",
       "\n",
       "    .dataframe thead th {\n",
       "        text-align: right;\n",
       "    }\n",
       "</style>\n",
       "<table border=\"1\" class=\"dataframe\">\n",
       "  <thead>\n",
       "    <tr style=\"text-align: right;\">\n",
       "      <th></th>\n",
       "      <th>Unit price</th>\n",
       "      <th>Quantity</th>\n",
       "      <th>Tax 5%</th>\n",
       "      <th>Total</th>\n",
       "      <th>cogs</th>\n",
       "      <th>gross margin percentage</th>\n",
       "      <th>gross income</th>\n",
       "      <th>Rating</th>\n",
       "    </tr>\n",
       "    <tr>\n",
       "      <th>Payment</th>\n",
       "      <th></th>\n",
       "      <th></th>\n",
       "      <th></th>\n",
       "      <th></th>\n",
       "      <th></th>\n",
       "      <th></th>\n",
       "      <th></th>\n",
       "      <th></th>\n",
       "    </tr>\n",
       "  </thead>\n",
       "  <tbody>\n",
       "    <tr>\n",
       "      <th>Cash</th>\n",
       "      <td>56.758983</td>\n",
       "      <td>5.511628</td>\n",
       "      <td>15.532471</td>\n",
       "      <td>326.181890</td>\n",
       "      <td>310.649419</td>\n",
       "      <td>4.761905</td>\n",
       "      <td>15.532471</td>\n",
       "      <td>6.970058</td>\n",
       "    </tr>\n",
       "    <tr>\n",
       "      <th>Credit card</th>\n",
       "      <td>54.394469</td>\n",
       "      <td>5.536977</td>\n",
       "      <td>15.429042</td>\n",
       "      <td>324.009878</td>\n",
       "      <td>308.580836</td>\n",
       "      <td>4.761905</td>\n",
       "      <td>15.429042</td>\n",
       "      <td>7.003215</td>\n",
       "    </tr>\n",
       "    <tr>\n",
       "      <th>Ewallet</th>\n",
       "      <td>55.740174</td>\n",
       "      <td>5.484058</td>\n",
       "      <td>15.181933</td>\n",
       "      <td>318.820600</td>\n",
       "      <td>303.638667</td>\n",
       "      <td>4.761905</td>\n",
       "      <td>15.181933</td>\n",
       "      <td>6.947826</td>\n",
       "    </tr>\n",
       "  </tbody>\n",
       "</table>\n",
       "</div>"
      ],
      "text/plain": [
       "             Unit price  Quantity     Tax 5%       Total        cogs  \\\n",
       "Payment                                                                \n",
       "Cash          56.758983  5.511628  15.532471  326.181890  310.649419   \n",
       "Credit card   54.394469  5.536977  15.429042  324.009878  308.580836   \n",
       "Ewallet       55.740174  5.484058  15.181933  318.820600  303.638667   \n",
       "\n",
       "             gross margin percentage  gross income    Rating  \n",
       "Payment                                                       \n",
       "Cash                        4.761905     15.532471  6.970058  \n",
       "Credit card                 4.761905     15.429042  7.003215  \n",
       "Ewallet                     4.761905     15.181933  6.947826  "
      ]
     },
     "execution_count": 11,
     "metadata": {},
     "output_type": "execute_result"
    }
   ],
   "source": [
    "df.groupby(\"Payment\").mean()"
   ]
  },
  {
   "cell_type": "markdown",
   "metadata": {},
   "source": [
    "Agora vamos ver, graficamente, como está essa divisão entre as linhas de produtos.  "
   ]
  },
  {
   "cell_type": "code",
   "execution_count": 13,
   "metadata": {},
   "outputs": [
    {
     "data": {
      "text/plain": [
       "<matplotlib.axes._subplots.AxesSubplot at 0xc4a5f12b08>"
      ]
     },
     "execution_count": 13,
     "metadata": {},
     "output_type": "execute_result"
    },
    {
     "data": {
      "image/png": "[encoded data removed]",
      "text/plain": [
       "<Figure size 864x576 with 1 Axes>"
      ]
     },
     "metadata": {},
     "output_type": "display_data"
    }
   ],
   "source": [
    "plt.figure(figsize=(12,8))\n",
    "sns.countplot(\"Product line\", hue='Payment', data=df)"
   ]
  },
  {
   "cell_type": "markdown",
   "metadata": {},
   "source": [
    "Nota-se que para a compra de \"Electronic accessories\", os clientes tendem a utilizar mais dinheiro; <br>\n",
    "Nota-se tambem que a **\"Ewallet\"(carteira eletronica)**, está presente na maioria das linhas de produtos. "
   ]
  },
  {
   "cell_type": "markdown",
   "metadata": {},
   "source": [
    "# Conclusão \n",
    "O presente trabalho teve como objetivo apresentar uma análise exploratória a respeito dos dados mais relevante. <br>\n",
    "Mesmo não aplicando um algorítmo de predição, os dados aqui trabalhados auxiliam na tomada de decisão e a prever possíveis comportamentos a respeito dos supermercados e seus clientes.<br><br>\n",
    "Estarei disponibilizando tambem um rascunho do projeto, contendo algumas informações adicionais, que julguei não sendo necessárias apresentar no projeto final. "
   ]
  },
  {
   "cell_type": "code",
   "execution_count": null,
   "metadata": {},
   "outputs": [],
   "source": []
  }
 ],
 "metadata": {
  "kernelspec": {
   "display_name": "Python 3",
   "language": "python",
   "name": "python3"
  },
  "language_info": {
   "codemirror_mode": {
    "name": "ipython",
    "version": 3
   },
   "file_extension": ".py",
   "mimetype": "text/x-python",
   "name": "python",
   "nbconvert_exporter": "python",
   "pygments_lexer": "ipython3",
   "version": "3.7.4"
  }
 },
 "nbformat": 4,
 "nbformat_minor": 4
}
